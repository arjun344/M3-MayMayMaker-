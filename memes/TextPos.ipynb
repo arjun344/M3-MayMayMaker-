{
 "cells": [
  {
   "cell_type": "code",
   "execution_count": 67,
   "metadata": {},
   "outputs": [],
   "source": [
    "import os\n",
    "from io import BytesIO\n",
    "import cv2\n",
    "import numpy as np\n",
    "import datetime\n",
    "import base64\n",
    "from PIL import Image\n",
    "from PIL import Image, ImageGrab\n",
    "from io import BytesIO\n",
    "\n",
    "ts = datetime.datetime.now().timestamp()\n",
    "filename = str(int(ts)) + \"temp.jpeg\"\n",
    "\n",
    "f = open('base64.txt', 'r')\n",
    "data = f.read()\n",
    "data  = data.split(',')[1]\n",
    "data = data.encode()\n",
    "f.closed\n",
    "\n",
    "\n",
    "with open(\"new_image.jpg\", \"wb\") as new_file:\n",
    "    new_file.write(base64.decodebytes(data))\n",
    "\n",
    "image = cv2.imread(\"new_image.jpg\")\n",
    "image = cv2.resize(image, (500, 500),interpolation = cv2.INTER_NEAREST)\n",
    "tempim = image.copy()\n",
    "gray = cv2.cvtColor(image, cv2.COLOR_BGR2GRAY)\n",
    "blur = cv2.GaussianBlur(gray, (9,9), 0)\n",
    "thresh = cv2.adaptiveThreshold(blur,255,cv2.ADAPTIVE_THRESH_GAUSSIAN_C, cv2.THRESH_BINARY_INV,11,30)"
   ]
  },
  {
   "cell_type": "code",
   "execution_count": 35,
   "metadata": {},
   "outputs": [
    {
     "data": {
      "text/plain": [
       "-1"
      ]
     },
     "execution_count": 35,
     "metadata": {},
     "output_type": "execute_result"
    }
   ],
   "source": [
    "cv2.imshow(\" \", thresh)\n",
    "cv2.waitKey()"
   ]
  },
  {
   "cell_type": "code",
   "execution_count": 59,
   "metadata": {},
   "outputs": [],
   "source": [
    "# Dilate to combine adjacent text contours\n",
    "kernel = cv2.getStructuringElement(cv2.MORPH_RECT, (9,9))\n",
    "dilate = cv2.dilate(thresh, kernel, iterations=4)"
   ]
  },
  {
   "cell_type": "code",
   "execution_count": 60,
   "metadata": {},
   "outputs": [],
   "source": [
    "# Find contours, highlight text areas, and extract ROIs\n",
    "cnts = cv2.findContours(dilate, cv2.RETR_EXTERNAL, cv2.CHAIN_APPROX_SIMPLE)\n",
    "cnts = cnts[0] if len(cnts) == 2 else cnts[1]"
   ]
  },
  {
   "cell_type": "code",
   "execution_count": 61,
   "metadata": {},
   "outputs": [],
   "source": [
    "temp = [[10.0, 20.0, 100.0, 60.0], [81.56597137451172, 160.4548568725586, 10.0, 10.0], [94.56597137451172, 225.4548568725586, 144.0, 83.0]]"
   ]
  },
  {
   "cell_type": "code",
   "execution_count": 62,
   "metadata": {},
   "outputs": [
    {
     "name": "stdout",
     "output_type": "stream",
     "text": [
      "10.0 20.0 100.0 60.0\n",
      "81.56597137451172 160.4548568725586 10.0 10.0\n",
      "94.56597137451172 225.4548568725586 144.0 83.0\n"
     ]
    }
   ],
   "source": [
    "#x,y,h,w\n",
    "for item in temp:\n",
    "    print(item[0],item[1],item[2],item[3])"
   ]
  },
  {
   "cell_type": "code",
   "execution_count": 63,
   "metadata": {},
   "outputs": [],
   "source": [
    "# for item in temp:\n",
    "#     x,y,w,h = temp[0],temp[1],temp[3],temp[2]"
   ]
  },
  {
   "cell_type": "code",
   "execution_count": 64,
   "metadata": {},
   "outputs": [
    {
     "name": "stdout",
     "output_type": "stream",
     "text": [
      "[[61, 336, 389, 121], [55, 90, 381, 93]]\n"
     ]
    }
   ],
   "source": [
    "ini_coord = []\n",
    "ROI_number = 0\n",
    "for c in cnts:\n",
    "    area = cv2.contourArea(c)\n",
    "    if area > 5000:\n",
    "        x,y,w,h = cv2.boundingRect(c)\n",
    "        xtemp = [x,y,w,h]\n",
    "        ini_coord.append(xtemp)\n",
    "print(ini_coord)\n",
    "        \n",
    "# contours = np.array( [ [x,y],[x,y+h],[x+w,y+h],[x+w,y] ] )\n",
    "# dilate = dilate.copy()\n",
    "# cv2.fillPoly(dilate, pts =[contours], color=(255,255,255))"
   ]
  },
  {
   "cell_type": "code",
   "execution_count": 65,
   "metadata": {},
   "outputs": [],
   "source": [
    "img = tempim.copy()\n",
    "dst = cv2.inpaint(img, dilate, 3, cv2.INPAINT_NS)  "
   ]
  },
  {
   "cell_type": "code",
   "execution_count": 9,
   "metadata": {},
   "outputs": [],
   "source": [
    "# contours = np.array( [ [x,y],[x,y+h],[x+w,y+h],[x+w,y] ] )\n",
    "# img = image.copy()\n",
    "# cv2.fillPoly(img, pts =[contours], color=(255,255,255))"
   ]
  },
  {
   "cell_type": "code",
   "execution_count": 17,
   "metadata": {},
   "outputs": [],
   "source": [
    "# im = Image.fromarray(image.astype(\"uint8\"))\n",
    "# #im.show()  # uncomment to look at the image\n",
    "# rawBytes = BytesIO()\n",
    "# im.save(rawBytes, \"PNG\")\n",
    "# rawBytes.seek(0)  # return to the start of the file\n",
    "# str(base64.b64encode(rawBytes.read()))[1:][1:-1]"
   ]
  },
  {
   "cell_type": "code",
   "execution_count": 66,
   "metadata": {},
   "outputs": [
    {
     "data": {
      "text/plain": [
       "-1"
      ]
     },
     "execution_count": 66,
     "metadata": {},
     "output_type": "execute_result"
    }
   ],
   "source": [
    "thresh = cv2.resize(thresh, (730, 540))\n",
    "cv2.imshow('thresh', thresh)\n",
    "dilate = cv2.resize(dilate, (730, 540))\n",
    "cv2.imshow('dilate', dilate)\n",
    "image = cv2.resize(image, (730, 540))\n",
    "cv2.imshow('image', image)\n",
    "dst = cv2.resize(dst, (730, 540))\n",
    "cv2.imshow(\" \", dst)\n",
    "cv2.waitKey()"
   ]
  },
  {
   "cell_type": "code",
   "execution_count": 12,
   "metadata": {},
   "outputs": [],
   "source": [
    "data = '10,20,100,60===169.12152099609375,95.01041412353516,10,10===333.12152099609375,143.01041412353516,10,10===103.12152099609375,224.01041412353516,127,96==='"
   ]
  },
  {
   "cell_type": "code",
   "execution_count": 13,
   "metadata": {},
   "outputs": [],
   "source": [
    "data = data.split('===')[:-1]"
   ]
  },
  {
   "cell_type": "code",
   "execution_count": 14,
   "metadata": {},
   "outputs": [],
   "source": [
    "temp = []\n",
    "for item in data:\n",
    "    t = item.split(',')\n",
    "    temp.append([float(i) for i in t])"
   ]
  },
  {
   "cell_type": "code",
   "execution_count": 15,
   "metadata": {},
   "outputs": [
    {
     "data": {
      "text/plain": [
       "[[10.0, 20.0, 100.0, 60.0],\n",
       " [169.12152099609375, 95.01041412353516, 10.0, 10.0],\n",
       " [333.12152099609375, 143.01041412353516, 10.0, 10.0],\n",
       " [103.12152099609375, 224.01041412353516, 127.0, 96.0]]"
      ]
     },
     "execution_count": 15,
     "metadata": {},
     "output_type": "execute_result"
    }
   ],
   "source": [
    "temp"
   ]
  },
  {
   "cell_type": "code",
   "execution_count": 16,
   "metadata": {},
   "outputs": [
    {
     "data": {
      "text/plain": [
       "True"
      ]
     },
     "execution_count": 16,
     "metadata": {},
     "output_type": "execute_result"
    }
   ],
   "source": [
    "cv2.imwrite('filename.jpg', image)"
   ]
  },
  {
   "cell_type": "code",
   "execution_count": null,
   "metadata": {},
   "outputs": [],
   "source": []
  },
  {
   "cell_type": "code",
   "execution_count": null,
   "metadata": {},
   "outputs": [],
   "source": []
  }
 ],
 "metadata": {
  "kernelspec": {
   "display_name": "Python 3",
   "language": "python",
   "name": "python3"
  },
  "language_info": {
   "codemirror_mode": {
    "name": "ipython",
    "version": 3
   },
   "file_extension": ".py",
   "mimetype": "text/x-python",
   "name": "python",
   "nbconvert_exporter": "python",
   "pygments_lexer": "ipython3",
   "version": "3.7.4"
  }
 },
 "nbformat": 4,
 "nbformat_minor": 2
}
